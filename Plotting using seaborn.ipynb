{
 "cells": [
  {
   "cell_type": "code",
   "execution_count": 1,
   "metadata": {},
   "outputs": [],
   "source": [
    "# importing the library\n",
    "import matplotlib.pyplot as plt\n",
    "import numpy as np"
   ]
  },
  {
   "cell_type": "code",
   "execution_count": 5,
   "metadata": {},
   "outputs": [
    {
     "data": {
      "image/png": "[encoded data removed]",
      "text/plain": [
       "<Figure size 432x288 with 1 Axes>"
      ]
     },
     "metadata": {
      "needs_background": "light"
     },
     "output_type": "display_data"
    }
   ],
   "source": [
    "# Python program to illustrate\n",
    "# plots with Seaborn\n",
    " \n",
    "# importing the required module\n",
    "import matplotlib.pyplot as plt\n",
    "import seaborn as sns\n",
    " \n",
    "# x axis values\n",
    "x =['sun', 'mon', 'fri', 'sat', 'tue', 'wed', 'thu']\n",
    " \n",
    "# y axis values\n",
    "y =[5, 6.7, 4, 6, 2, 4.9, 1.8]\n",
    " \n",
    "# plotting strip plot with seaborn\n",
    "ax = sns.stripplot(x, y);\n",
    " \n",
    "# giving labels to x-axis and y-axis\n",
    "ax.set(xlabel ='Days', ylabel ='Amount_spend')\n",
    " \n",
    "# giving title to the plot\n",
    "plt.title('My first graph');\n",
    " \n",
    "# function to show plot\n",
    "plt.show()"
   ]
  },
  {
   "cell_type": "code",
   "execution_count": null,
   "metadata": {},
   "outputs": [],
   "source": []
  }
 ],
 "metadata": {
  "kernelspec": {
   "display_name": "Python 3",
   "language": "python",
   "name": "python3"
  },
  "language_info": {
   "codemirror_mode": {
    "name": "ipython",
    "version": 3
   },
   "file_extension": ".py",
   "mimetype": "text/x-python",
   "name": "python",
   "nbconvert_exporter": "python",
   "pygments_lexer": "ipython3",
   "version": "3.8.3"
  }
 },
 "nbformat": 4,
 "nbformat_minor": 4
}
